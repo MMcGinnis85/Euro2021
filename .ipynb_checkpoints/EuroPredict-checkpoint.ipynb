{
 "cells": [
  {
   "cell_type": "code",
   "execution_count": 193,
   "metadata": {},
   "outputs": [],
   "source": [
    "import pandas as pd\n",
    "import numpy as np\n",
    "import matplotlib.pyplot as plt\n",
    "import statsmodels.api as sm\n",
    "import statsmodels.formula.api as smf\n",
    "import seaborn as sns\n",
    "import gc\n",
    "import os\n",
    "import datetime\n",
    "from scipy.stats import poisson\n",
    "from scipy.stats import binom\n"
   ]
  },
  {
   "cell_type": "markdown",
   "metadata": {},
   "source": [
    "# Import Data"
   ]
  },
  {
   "cell_type": "code",
   "execution_count": 159,
   "metadata": {},
   "outputs": [],
   "source": [
    "soccerResults = pd.read_csv(\"results.csv\")\n",
    "soccerResults['date'] = pd.to_datetime(soccerResults['date'])"
   ]
  },
  {
   "cell_type": "code",
   "execution_count": 160,
   "metadata": {},
   "outputs": [],
   "source": [
    "soccerResults['year'] = soccerResults['date'].dt.year"
   ]
  },
  {
   "cell_type": "code",
   "execution_count": 203,
   "metadata": {},
   "outputs": [],
   "source": [
    "matches = soccerResults[soccerResults['date'] > '2018-01-01']"
   ]
  },
  {
   "cell_type": "code",
   "execution_count": 204,
   "metadata": {},
   "outputs": [
    {
     "data": {
      "text/html": [
       "<div>\n",
       "<style scoped>\n",
       "    .dataframe tbody tr th:only-of-type {\n",
       "        vertical-align: middle;\n",
       "    }\n",
       "\n",
       "    .dataframe tbody tr th {\n",
       "        vertical-align: top;\n",
       "    }\n",
       "\n",
       "    .dataframe thead th {\n",
       "        text-align: right;\n",
       "    }\n",
       "</style>\n",
       "<table border=\"1\" class=\"dataframe\">\n",
       "  <thead>\n",
       "    <tr style=\"text-align: right;\">\n",
       "      <th></th>\n",
       "      <th>date</th>\n",
       "      <th>home_team</th>\n",
       "      <th>away_team</th>\n",
       "      <th>home_score</th>\n",
       "      <th>away_score</th>\n",
       "      <th>tournament</th>\n",
       "      <th>city</th>\n",
       "      <th>country</th>\n",
       "      <th>neutral</th>\n",
       "      <th>year</th>\n",
       "    </tr>\n",
       "  </thead>\n",
       "  <tbody>\n",
       "    <tr>\n",
       "      <th>39555</th>\n",
       "      <td>2018-01-02</td>\n",
       "      <td>Iraq</td>\n",
       "      <td>United Arab Emirates</td>\n",
       "      <td>0</td>\n",
       "      <td>0</td>\n",
       "      <td>Gulf Cup</td>\n",
       "      <td>Kuwait City</td>\n",
       "      <td>Kuwait</td>\n",
       "      <td>True</td>\n",
       "      <td>2018</td>\n",
       "    </tr>\n",
       "    <tr>\n",
       "      <th>39556</th>\n",
       "      <td>2018-01-02</td>\n",
       "      <td>Oman</td>\n",
       "      <td>Bahrain</td>\n",
       "      <td>1</td>\n",
       "      <td>0</td>\n",
       "      <td>Gulf Cup</td>\n",
       "      <td>Kuwait City</td>\n",
       "      <td>Kuwait</td>\n",
       "      <td>True</td>\n",
       "      <td>2018</td>\n",
       "    </tr>\n",
       "    <tr>\n",
       "      <th>39557</th>\n",
       "      <td>2018-01-05</td>\n",
       "      <td>Oman</td>\n",
       "      <td>United Arab Emirates</td>\n",
       "      <td>0</td>\n",
       "      <td>0</td>\n",
       "      <td>Gulf Cup</td>\n",
       "      <td>Kuwait City</td>\n",
       "      <td>Kuwait</td>\n",
       "      <td>True</td>\n",
       "      <td>2018</td>\n",
       "    </tr>\n",
       "    <tr>\n",
       "      <th>39558</th>\n",
       "      <td>2018-01-07</td>\n",
       "      <td>Estonia</td>\n",
       "      <td>Sweden</td>\n",
       "      <td>1</td>\n",
       "      <td>1</td>\n",
       "      <td>Friendly</td>\n",
       "      <td>Abu Dhabi</td>\n",
       "      <td>United Arab Emirates</td>\n",
       "      <td>True</td>\n",
       "      <td>2018</td>\n",
       "    </tr>\n",
       "    <tr>\n",
       "      <th>39559</th>\n",
       "      <td>2018-01-11</td>\n",
       "      <td>Denmark</td>\n",
       "      <td>Sweden</td>\n",
       "      <td>0</td>\n",
       "      <td>1</td>\n",
       "      <td>Friendly</td>\n",
       "      <td>Abu Dhabi</td>\n",
       "      <td>United Arab Emirates</td>\n",
       "      <td>True</td>\n",
       "      <td>2018</td>\n",
       "    </tr>\n",
       "  </tbody>\n",
       "</table>\n",
       "</div>"
      ],
      "text/plain": [
       "            date home_team             away_team  home_score  away_score  \\\n",
       "39555 2018-01-02      Iraq  United Arab Emirates           0           0   \n",
       "39556 2018-01-02      Oman               Bahrain           1           0   \n",
       "39557 2018-01-05      Oman  United Arab Emirates           0           0   \n",
       "39558 2018-01-07   Estonia                Sweden           1           1   \n",
       "39559 2018-01-11   Denmark                Sweden           0           1   \n",
       "\n",
       "      tournament         city               country  neutral  year  \n",
       "39555   Gulf Cup  Kuwait City                Kuwait     True  2018  \n",
       "39556   Gulf Cup  Kuwait City                Kuwait     True  2018  \n",
       "39557   Gulf Cup  Kuwait City                Kuwait     True  2018  \n",
       "39558   Friendly    Abu Dhabi  United Arab Emirates     True  2018  \n",
       "39559   Friendly    Abu Dhabi  United Arab Emirates     True  2018  "
      ]
     },
     "execution_count": 204,
     "metadata": {},
     "output_type": "execute_result"
    }
   ],
   "source": [
    "matches.head()"
   ]
  },
  {
   "cell_type": "markdown",
   "metadata": {},
   "source": [
    "# Clean Data"
   ]
  },
  {
   "cell_type": "code",
   "execution_count": 205,
   "metadata": {},
   "outputs": [],
   "source": [
    "to_drop = ['Italy','Turkey','Switzerland','Wales',\n",
    "           'Belgium','Russia','Denmark','Finland',\n",
    "           'Netherlands','Austria','Ukraine','Macedonia',\n",
    "          'England','Croatia','Scotland','Czech Republic',\n",
    "          'Spain','Sweden','Poland','Slovakia',\n",
    "          'France','Portugal','Germany','Hungary']"
   ]
  },
  {
   "cell_type": "code",
   "execution_count": 206,
   "metadata": {},
   "outputs": [],
   "source": [
    "groupa = matches[matches.home_team.isin(to_drop)]\n",
    "groupaAway = matches[matches.away_team.isin(to_drop)]"
   ]
  },
  {
   "cell_type": "code",
   "execution_count": 207,
   "metadata": {},
   "outputs": [
    {
     "data": {
      "text/html": [
       "<div>\n",
       "<style scoped>\n",
       "    .dataframe tbody tr th:only-of-type {\n",
       "        vertical-align: middle;\n",
       "    }\n",
       "\n",
       "    .dataframe tbody tr th {\n",
       "        vertical-align: top;\n",
       "    }\n",
       "\n",
       "    .dataframe thead th {\n",
       "        text-align: right;\n",
       "    }\n",
       "</style>\n",
       "<table border=\"1\" class=\"dataframe\">\n",
       "  <thead>\n",
       "    <tr style=\"text-align: right;\">\n",
       "      <th></th>\n",
       "      <th>date</th>\n",
       "      <th>home_team</th>\n",
       "      <th>away_team</th>\n",
       "      <th>home_score</th>\n",
       "      <th>away_score</th>\n",
       "      <th>tournament</th>\n",
       "      <th>city</th>\n",
       "      <th>country</th>\n",
       "      <th>neutral</th>\n",
       "      <th>year</th>\n",
       "    </tr>\n",
       "  </thead>\n",
       "  <tbody>\n",
       "    <tr>\n",
       "      <th>39559</th>\n",
       "      <td>2018-01-11</td>\n",
       "      <td>Denmark</td>\n",
       "      <td>Sweden</td>\n",
       "      <td>0</td>\n",
       "      <td>1</td>\n",
       "      <td>Friendly</td>\n",
       "      <td>Abu Dhabi</td>\n",
       "      <td>United Arab Emirates</td>\n",
       "      <td>True</td>\n",
       "      <td>2018</td>\n",
       "    </tr>\n",
       "    <tr>\n",
       "      <th>39619</th>\n",
       "      <td>2018-03-22</td>\n",
       "      <td>Denmark</td>\n",
       "      <td>Panama</td>\n",
       "      <td>1</td>\n",
       "      <td>0</td>\n",
       "      <td>Friendly</td>\n",
       "      <td>Brøndby</td>\n",
       "      <td>Denmark</td>\n",
       "      <td>False</td>\n",
       "      <td>2018</td>\n",
       "    </tr>\n",
       "    <tr>\n",
       "      <th>39628</th>\n",
       "      <td>2018-03-22</td>\n",
       "      <td>Slovakia</td>\n",
       "      <td>United Arab Emirates</td>\n",
       "      <td>2</td>\n",
       "      <td>1</td>\n",
       "      <td>Friendly</td>\n",
       "      <td>Bangkok</td>\n",
       "      <td>Thailand</td>\n",
       "      <td>True</td>\n",
       "      <td>2018</td>\n",
       "    </tr>\n",
       "    <tr>\n",
       "      <th>39630</th>\n",
       "      <td>2018-03-23</td>\n",
       "      <td>Austria</td>\n",
       "      <td>Slovenia</td>\n",
       "      <td>3</td>\n",
       "      <td>0</td>\n",
       "      <td>Friendly</td>\n",
       "      <td>Klagenfurt</td>\n",
       "      <td>Austria</td>\n",
       "      <td>False</td>\n",
       "      <td>2018</td>\n",
       "    </tr>\n",
       "    <tr>\n",
       "      <th>39635</th>\n",
       "      <td>2018-03-23</td>\n",
       "      <td>Finland</td>\n",
       "      <td>North Macedonia</td>\n",
       "      <td>0</td>\n",
       "      <td>0</td>\n",
       "      <td>Friendly</td>\n",
       "      <td>Belek</td>\n",
       "      <td>Turkey</td>\n",
       "      <td>True</td>\n",
       "      <td>2018</td>\n",
       "    </tr>\n",
       "  </tbody>\n",
       "</table>\n",
       "</div>"
      ],
      "text/plain": [
       "            date home_team             away_team  home_score  away_score  \\\n",
       "39559 2018-01-11   Denmark                Sweden           0           1   \n",
       "39619 2018-03-22   Denmark                Panama           1           0   \n",
       "39628 2018-03-22  Slovakia  United Arab Emirates           2           1   \n",
       "39630 2018-03-23   Austria              Slovenia           3           0   \n",
       "39635 2018-03-23   Finland       North Macedonia           0           0   \n",
       "\n",
       "      tournament        city               country  neutral  year  \n",
       "39559   Friendly   Abu Dhabi  United Arab Emirates     True  2018  \n",
       "39619   Friendly     Brøndby               Denmark    False  2018  \n",
       "39628   Friendly     Bangkok              Thailand     True  2018  \n",
       "39630   Friendly  Klagenfurt               Austria    False  2018  \n",
       "39635   Friendly       Belek                Turkey     True  2018  "
      ]
     },
     "execution_count": 207,
     "metadata": {},
     "output_type": "execute_result"
    }
   ],
   "source": [
    "groupa.head()"
   ]
  },
  {
   "cell_type": "markdown",
   "metadata": {},
   "source": [
    "# Teams to Check"
   ]
  },
  {
   "cell_type": "code",
   "execution_count": 238,
   "metadata": {},
   "outputs": [],
   "source": [
    "Team1Name = \"Italy\"\n",
    "Team2Name = \"Spain\""
   ]
  },
  {
   "cell_type": "markdown",
   "metadata": {},
   "source": [
    "# Functions\n"
   ]
  },
  {
   "cell_type": "code",
   "execution_count": 259,
   "metadata": {},
   "outputs": [],
   "source": [
    "def getAttack(Team):\n",
    "    teamAverage = groupa[groupa['home_team'] == Team]\n",
    "    teamAwayAverage = groupaAway[groupaAway['away_team'] == Team]  \n",
    "    teamAttTotal = (teamAverage['home_score'].mean() + teamAwayAverage['away_score'].mean()) / 2\n",
    "    return teamAttTotal\n",
    "\n",
    "def getDef(Team):\n",
    "    teamAverage = groupa[groupa['home_team'] == Team]\n",
    "    teamAwayAverage = groupaAway[groupaAway['away_team'] == Team]\n",
    "    teamDefTotal = (teamAverage['away_score'].mean() + teamAwayAverage['home_score'].mean()) / 2\n",
    "    return teamDefTotal"
   ]
  },
  {
   "cell_type": "markdown",
   "metadata": {},
   "source": [
    "# Main Code"
   ]
  },
  {
   "cell_type": "code",
   "execution_count": 264,
   "metadata": {},
   "outputs": [],
   "source": [
    "GroupAverage = groupa['home_score'].mean()\n",
    "Group2Average = groupa['away_score'].mean()\n",
    "GroupAwayAverage = groupaAway['away_score'].mean()\n",
    "Group3Average = groupaAway['home_score'].mean()\n",
    "\n",
    "GlobalAvg = (GroupAverage + Group2Average + GroupAwayAverage + Group3Average) / 4\n",
    "\n",
    "\n",
    "GroupDef = groupa['away_score'].mean()\n",
    "GroupAwayDef = groupaAway['home_score'].mean()\n",
    "GroupAttTotal = (GroupAverage + GroupAwayAverage) / 2\n",
    "GroupDefTotal = (GroupDef + GroupAwayDef) / 2\n",
    "\n",
    "Team1Att = getAttack(Team1Name)\n",
    "Team1Def = getDef(Team1Name)\n",
    "Team2Att = getAttack(Team2Name)\n",
    "Team2Def = getDef(Team2Name)\n",
    "\n",
    "\n",
    "Team1ExG = Team1Att * Team2Def * GlobalAvg\n",
    "Team2ExG = Team2Att * Team1Def * GlobalAvg\n",
    "\n",
    "n = np.arange(0,6)\n",
    "y2 = poisson.pmf(n,Team2ExG)\n",
    "y = poisson.pmf(n,Team1ExG)\n",
    "\n",
    "\n",
    "data = {Team1Name: y,\n",
    "        Team2Name: y2}\n",
    "  \n",
    "df = pd.DataFrame(data)\n",
    "cm = sns.light_palette(\"green\", as_cmap=True)\n",
    "s = df.style.background_gradient(cmap=cm)"
   ]
  },
  {
   "cell_type": "markdown",
   "metadata": {},
   "source": [
    "###### Output"
   ]
  },
  {
   "cell_type": "code",
   "execution_count": 265,
   "metadata": {},
   "outputs": [
    {
     "data": {
      "text/html": [
       "<div>\n",
       "<style scoped>\n",
       "    .dataframe tbody tr th:only-of-type {\n",
       "        vertical-align: middle;\n",
       "    }\n",
       "\n",
       "    .dataframe tbody tr th {\n",
       "        vertical-align: top;\n",
       "    }\n",
       "\n",
       "    .dataframe thead th {\n",
       "        text-align: right;\n",
       "    }\n",
       "</style>\n",
       "<table border=\"1\" class=\"dataframe\">\n",
       "  <thead>\n",
       "    <tr style=\"text-align: right;\">\n",
       "      <th></th>\n",
       "      <th>0</th>\n",
       "      <th>1</th>\n",
       "      <th>2</th>\n",
       "      <th>3</th>\n",
       "      <th>4</th>\n",
       "      <th>5</th>\n",
       "    </tr>\n",
       "  </thead>\n",
       "  <tbody>\n",
       "    <tr>\n",
       "      <th>Italy</th>\n",
       "      <td>0.076266</td>\n",
       "      <td>0.196273</td>\n",
       "      <td>0.252557</td>\n",
       "      <td>0.216654</td>\n",
       "      <td>0.139391</td>\n",
       "      <td>0.071745</td>\n",
       "    </tr>\n",
       "    <tr>\n",
       "      <th>Spain</th>\n",
       "      <td>0.166320</td>\n",
       "      <td>0.298352</td>\n",
       "      <td>0.267598</td>\n",
       "      <td>0.160009</td>\n",
       "      <td>0.071758</td>\n",
       "      <td>0.025744</td>\n",
       "    </tr>\n",
       "  </tbody>\n",
       "</table>\n",
       "</div>"
      ],
      "text/plain": [
       "              0         1         2         3         4         5\n",
       "Italy  0.076266  0.196273  0.252557  0.216654  0.139391  0.071745\n",
       "Spain  0.166320  0.298352  0.267598  0.160009  0.071758  0.025744"
      ]
     },
     "execution_count": 265,
     "metadata": {},
     "output_type": "execute_result"
    }
   ],
   "source": [
    "df.T"
   ]
  },
  {
   "cell_type": "markdown",
   "metadata": {},
   "source": [
    "Testing"
   ]
  },
  {
   "cell_type": "markdown",
   "metadata": {},
   "source": [
    "###### Colour Scheme"
   ]
  },
  {
   "cell_type": "code",
   "execution_count": 267,
   "metadata": {},
   "outputs": [
    {
     "data": {
      "text/html": [
       "<style  type=\"text/css\" >\n",
       "#T_03fc7110_c7c5_11eb_a675_54a050e73798row0_col0{\n",
       "            background-color:  #e5f0e5;\n",
       "            color:  #000000;\n",
       "            background-color:  #e5f0e5;\n",
       "            color:  #000000;\n",
       "        }#T_03fc7110_c7c5_11eb_a675_54a050e73798row0_col1{\n",
       "            background-color:  #71b771;\n",
       "            color:  #000000;\n",
       "            background-color:  #71b771;\n",
       "            color:  #000000;\n",
       "        }#T_03fc7110_c7c5_11eb_a675_54a050e73798row1_col0{\n",
       "            background-color:  #49a449;\n",
       "            color:  #000000;\n",
       "            background-color:  #49a449;\n",
       "            color:  #000000;\n",
       "        }#T_03fc7110_c7c5_11eb_a675_54a050e73798row1_col1,#T_03fc7110_c7c5_11eb_a675_54a050e73798row2_col0{\n",
       "            background-color:  #008000;\n",
       "            color:  #f1f1f1;\n",
       "            background-color:  #008000;\n",
       "            color:  #f1f1f1;\n",
       "        }#T_03fc7110_c7c5_11eb_a675_54a050e73798row2_col1{\n",
       "            background-color:  #1a8d1a;\n",
       "            color:  #000000;\n",
       "            background-color:  #1a8d1a;\n",
       "            color:  #000000;\n",
       "        }#T_03fc7110_c7c5_11eb_a675_54a050e73798row3_col0{\n",
       "            background-color:  #2e972e;\n",
       "            color:  #000000;\n",
       "            background-color:  #2e972e;\n",
       "            color:  #000000;\n",
       "        }#T_03fc7110_c7c5_11eb_a675_54a050e73798row3_col1{\n",
       "            background-color:  #77ba77;\n",
       "            color:  #000000;\n",
       "            background-color:  #77ba77;\n",
       "            color:  #000000;\n",
       "        }#T_03fc7110_c7c5_11eb_a675_54a050e73798row4_col0{\n",
       "            background-color:  #93c893;\n",
       "            color:  #000000;\n",
       "            background-color:  #93c893;\n",
       "            color:  #000000;\n",
       "        }#T_03fc7110_c7c5_11eb_a675_54a050e73798row4_col1{\n",
       "            background-color:  #c3e0c3;\n",
       "            color:  #000000;\n",
       "            background-color:  #c3e0c3;\n",
       "            color:  #000000;\n",
       "        }#T_03fc7110_c7c5_11eb_a675_54a050e73798row5_col0,#T_03fc7110_c7c5_11eb_a675_54a050e73798row5_col1{\n",
       "            background-color:  #ebf3eb;\n",
       "            color:  #000000;\n",
       "            background-color:  #ebf3eb;\n",
       "            color:  #000000;\n",
       "        }</style><table id=\"T_03fc7110_c7c5_11eb_a675_54a050e73798\" ><thead>    <tr>        <th class=\"blank level0\" ></th>        <th class=\"col_heading level0 col0\" >Italy</th>        <th class=\"col_heading level0 col1\" >Spain</th>    </tr></thead><tbody>\n",
       "                <tr>\n",
       "                        <th id=\"T_03fc7110_c7c5_11eb_a675_54a050e73798level0_row0\" class=\"row_heading level0 row0\" >0</th>\n",
       "                        <td id=\"T_03fc7110_c7c5_11eb_a675_54a050e73798row0_col0\" class=\"data row0 col0\" >0.076266</td>\n",
       "                        <td id=\"T_03fc7110_c7c5_11eb_a675_54a050e73798row0_col1\" class=\"data row0 col1\" >0.166320</td>\n",
       "            </tr>\n",
       "            <tr>\n",
       "                        <th id=\"T_03fc7110_c7c5_11eb_a675_54a050e73798level0_row1\" class=\"row_heading level0 row1\" >1</th>\n",
       "                        <td id=\"T_03fc7110_c7c5_11eb_a675_54a050e73798row1_col0\" class=\"data row1 col0\" >0.196273</td>\n",
       "                        <td id=\"T_03fc7110_c7c5_11eb_a675_54a050e73798row1_col1\" class=\"data row1 col1\" >0.298352</td>\n",
       "            </tr>\n",
       "            <tr>\n",
       "                        <th id=\"T_03fc7110_c7c5_11eb_a675_54a050e73798level0_row2\" class=\"row_heading level0 row2\" >2</th>\n",
       "                        <td id=\"T_03fc7110_c7c5_11eb_a675_54a050e73798row2_col0\" class=\"data row2 col0\" >0.252557</td>\n",
       "                        <td id=\"T_03fc7110_c7c5_11eb_a675_54a050e73798row2_col1\" class=\"data row2 col1\" >0.267598</td>\n",
       "            </tr>\n",
       "            <tr>\n",
       "                        <th id=\"T_03fc7110_c7c5_11eb_a675_54a050e73798level0_row3\" class=\"row_heading level0 row3\" >3</th>\n",
       "                        <td id=\"T_03fc7110_c7c5_11eb_a675_54a050e73798row3_col0\" class=\"data row3 col0\" >0.216654</td>\n",
       "                        <td id=\"T_03fc7110_c7c5_11eb_a675_54a050e73798row3_col1\" class=\"data row3 col1\" >0.160009</td>\n",
       "            </tr>\n",
       "            <tr>\n",
       "                        <th id=\"T_03fc7110_c7c5_11eb_a675_54a050e73798level0_row4\" class=\"row_heading level0 row4\" >4</th>\n",
       "                        <td id=\"T_03fc7110_c7c5_11eb_a675_54a050e73798row4_col0\" class=\"data row4 col0\" >0.139391</td>\n",
       "                        <td id=\"T_03fc7110_c7c5_11eb_a675_54a050e73798row4_col1\" class=\"data row4 col1\" >0.071758</td>\n",
       "            </tr>\n",
       "            <tr>\n",
       "                        <th id=\"T_03fc7110_c7c5_11eb_a675_54a050e73798level0_row5\" class=\"row_heading level0 row5\" >5</th>\n",
       "                        <td id=\"T_03fc7110_c7c5_11eb_a675_54a050e73798row5_col0\" class=\"data row5 col0\" >0.071745</td>\n",
       "                        <td id=\"T_03fc7110_c7c5_11eb_a675_54a050e73798row5_col1\" class=\"data row5 col1\" >0.025744</td>\n",
       "            </tr>\n",
       "    </tbody></table>"
      ],
      "text/plain": [
       "<pandas.io.formats.style.Styler at 0x27a06a8e0d0>"
      ]
     },
     "execution_count": 267,
     "metadata": {},
     "output_type": "execute_result"
    }
   ],
   "source": [
    "s"
   ]
  },
  {
   "cell_type": "markdown",
   "metadata": {},
   "source": [
    "\n",
    "\n"
   ]
  }
 ],
 "metadata": {
  "kernelspec": {
   "display_name": "Python 3",
   "language": "python",
   "name": "python3"
  },
  "language_info": {
   "codemirror_mode": {
    "name": "ipython",
    "version": 3
   },
   "file_extension": ".py",
   "mimetype": "text/x-python",
   "name": "python",
   "nbconvert_exporter": "python",
   "pygments_lexer": "ipython3",
   "version": "3.8.5"
  }
 },
 "nbformat": 4,
 "nbformat_minor": 4
}
