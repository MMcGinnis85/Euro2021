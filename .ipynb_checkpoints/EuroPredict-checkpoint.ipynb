{
 "cells": [
  {
   "cell_type": "code",
   "execution_count": null,
   "metadata": {},
   "outputs": [],
   "source": [
    "import pandas as pd\n",
    "import numpy as np\n",
    "import matplotlib.pyplot as plt\n",
    "import statsmodels.api as sm\n",
    "import statsmodels.formula.api as smf\n",
    "import seaborn as sns\n",
    "import gc\n",
    "import os\n",
    "import datetime\n",
    "from math import floor\n",
    "from scipy.stats import poisson\n",
    "from scipy.stats import binom\n"
   ]
  },
  {
   "cell_type": "markdown",
   "metadata": {},
   "source": [
    "# Import Data"
   ]
  },
  {
   "cell_type": "code",
   "execution_count": null,
   "metadata": {},
   "outputs": [],
   "source": [
    "soccerResults = pd.read_csv(\"results.csv\")\n",
    "soccerResults['date'] = pd.to_datetime(soccerResults['date'])"
   ]
  },
  {
   "cell_type": "code",
   "execution_count": null,
   "metadata": {},
   "outputs": [],
   "source": [
    "soccerResults['year'] = soccerResults['date'].dt.year"
   ]
  },
  {
   "cell_type": "code",
   "execution_count": null,
   "metadata": {},
   "outputs": [],
   "source": [
    "matches = soccerResults[soccerResults['date'] > '2018-01-01']"
   ]
  },
  {
   "cell_type": "code",
   "execution_count": null,
   "metadata": {},
   "outputs": [],
   "source": [
    "matches.head()"
   ]
  },
  {
   "cell_type": "markdown",
   "metadata": {},
   "source": [
    "# Clean Data"
   ]
  },
  {
   "cell_type": "code",
   "execution_count": null,
   "metadata": {},
   "outputs": [],
   "source": [
    "to_drop = ['Italy','Turkey','Switzerland','Wales',\n",
    "           'Belgium','Russia','Denmark','Finland',\n",
    "           'Netherlands','Austria','Ukraine','Macedonia',\n",
    "          'England','Croatia','Scotland','Czech Republic',\n",
    "          'Spain','Sweden','Poland','Slovakia',\n",
    "          'France','Portugal','Germany','Hungary']\n"
   ]
  },
  {
   "cell_type": "code",
   "execution_count": null,
   "metadata": {},
   "outputs": [],
   "source": [
    "groupa = matches[matches.home_team.isin(to_drop)]\n",
    "groupaAway = matches[matches.away_team.isin(to_drop)]\n",
    "neutralGames = soccerResults[soccerResults[\"neutral\"]]"
   ]
  },
  {
   "cell_type": "markdown",
   "metadata": {},
   "source": [
    "# Teams to Check"
   ]
  },
  {
   "cell_type": "code",
   "execution_count": null,
   "metadata": {},
   "outputs": [],
   "source": [
    "# Type Teams Here\n",
    "Team1Name = \"Italy\"\n",
    "Team2Name = \"Turkey\""
   ]
  },
  {
   "cell_type": "markdown",
   "metadata": {},
   "source": [
    "# Functions\n"
   ]
  },
  {
   "cell_type": "code",
   "execution_count": null,
   "metadata": {},
   "outputs": [],
   "source": [
    "\n",
    "def getAttack(Team):\n",
    "    teamAverage = groupa[groupa['home_team'] == Team]\n",
    "    teamAwayAverage = groupaAway[groupaAway['away_team'] == Team]  \n",
    "    teamAttTotal = (teamAverage['home_score'].mean() + teamAwayAverage['away_score'].mean()) / 2\n",
    "    return teamAttTotal\n",
    "\n",
    "def getDef(Team):\n",
    "    teamAverage = groupa[groupa['home_team'] == Team]\n",
    "    teamAwayAverage = groupaAway[groupaAway['away_team'] == Team]\n",
    "    teamDefTotal = (teamAverage['away_score'].mean() + teamAwayAverage['home_score'].mean()) / 2\n",
    "    return teamDefTotal\n",
    "\n",
    "def floored_percentage(val, digits):     \n",
    "    val *= 10 ** (digits + 2)\n",
    "    return '{1:.{0}f}%'.format(digits, floor(val) / 10 ** digits)"
   ]
  },
  {
   "cell_type": "markdown",
   "metadata": {},
   "source": [
    "# Main Code"
   ]
  },
  {
   "cell_type": "code",
   "execution_count": null,
   "metadata": {},
   "outputs": [],
   "source": [
    "#Global Averages from NeutralGames\n",
    "neutralAverage = neutralGames['home_score'].mean()\n",
    "neutral2Average = neutralGames['away_score'].mean()\n",
    "nuetralAvg = (neutralAverage + neutral2Average ) / 2\n",
    "\n",
    "#Get Teams Attack and Defense\n",
    "Team1Att = getAttack(Team1Name) / nuetralAvg\n",
    "Team1Def = getDef(Team1Name) / nuetralAvg\n",
    "Team2Att = getAttack(Team2Name) / nuetralAvg\n",
    "Team2Def = getDef(Team2Name) / nuetralAvg\n",
    "\n",
    "#Expected Goals for both teams Vs Each Other\n",
    "#Mutiplty attack * opposition defense * global average\n",
    "Team1ExG = Team1Att * Team2Def * nuetralAvg\n",
    "Team2ExG = Team2Att * Team1Def * nuetralAvg\n",
    "\n",
    "#Add into Data Frame with 5 goals the highest score\n",
    "n = np.arange(0,6)\n",
    "y2 = poisson.pmf(n,Team2ExG)\n",
    "y = poisson.pmf(n,Team1ExG)\n",
    "data = {Team1Name: y,\n",
    "        Team2Name: y2}\n",
    "  \n",
    "df = pd.DataFrame(data)\n",
    "cm = sns.light_palette(\"green\", as_cmap=True)\n",
    "s = df.style.background_gradient(cmap=cm)\n",
    "df = (100 * df).round(2).astype(str) + '%'\n"
   ]
  },
  {
   "cell_type": "markdown",
   "metadata": {},
   "source": [
    "# Output"
   ]
  },
  {
   "cell_type": "code",
   "execution_count": null,
   "metadata": {},
   "outputs": [],
   "source": [
    "df.T"
   ]
  },
  {
   "cell_type": "markdown",
   "metadata": {},
   "source": [
    "###### Colour Scheme"
   ]
  },
  {
   "cell_type": "code",
   "execution_count": null,
   "metadata": {},
   "outputs": [],
   "source": [
    "s"
   ]
  },
  {
   "cell_type": "markdown",
   "metadata": {},
   "source": [
    "\n",
    "\n"
   ]
  },
  {
   "cell_type": "code",
   "execution_count": null,
   "metadata": {},
   "outputs": [],
   "source": []
  }
 ],
 "metadata": {
  "kernelspec": {
   "display_name": "Python 3",
   "language": "python",
   "name": "python3"
  },
  "language_info": {
   "codemirror_mode": {
    "name": "ipython",
    "version": 3
   },
   "file_extension": ".py",
   "mimetype": "text/x-python",
   "name": "python",
   "nbconvert_exporter": "python",
   "pygments_lexer": "ipython3",
   "version": "3.8.5"
  }
 },
 "nbformat": 4,
 "nbformat_minor": 4
}
